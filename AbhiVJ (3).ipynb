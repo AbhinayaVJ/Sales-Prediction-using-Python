{
  "nbformat": 4,
  "nbformat_minor": 0,
  "metadata": {
    "colab": {
      "provenance": []
    },
    "kernelspec": {
      "name": "python3",
      "display_name": "Python 3"
    },
    "language_info": {
      "name": "python"
    }
  },
  "cells": [
    {
      "cell_type": "code",
      "execution_count": null,
      "metadata": {
        "id": "hnHppORLE_wg"
      },
      "outputs": [],
      "source": [
        "pip install --upgrade pip'"
      ]
    },
    {
      "cell_type": "code",
      "source": [
        "import numpy as np\n",
        "import pandas as pd, datetime\n",
        "import seaborn as sns\n",
        "from statsmodels.tsa.stattools import adfuller\n",
        "import matplotlib.pyplot as plt\n",
        "get_ipython().run_line_magic('matplotlib', 'inline')\n",
        "from time import time\n",
        "import os\n",
        "from math import sqrt\n",
        "from statsmodels.tsa.seasonal import seasonal_decompose\n",
        "from statsmodels.graphics.tsaplots import plot_acf, plot_pacf\n",
        "import itertools\n",
        "import statsmodels.api as sm\n",
        "from statsmodels.tsa.stattools import acf,pacf\n",
        "from statsmodels.tsa.arima_model import  ARIMA\n",
        "from sklearn import model_selection\n",
        "from sklearn.metrics import mean_squared_error, r2_score\n",
        "from pandas import DataFrame\n",
        "import xgboost as xgb\n",
        "from fbprophet import Prophet\n",
        "import warnings\n",
        "warnings.filterwarnings('ignore')"
      ],
      "metadata": {
        "id": "jpu8Ed5WFEVv"
      },
      "execution_count": null,
      "outputs": []
    },
    {
      "cell_type": "code",
      "source": [
        "store = pd.read_csv('../input/rossmann-store-sales/store.csv')\n",
        "train = pd.read_csv('../input/rossmann-store-sales/train.csv', index_col='Date', parse_dates=True)\n",
        "test = pd.read_csv('../input/rossmann-store-sales/test.csv')\n",
        "train.shape, test.shape, store.shape"
      ],
      "metadata": {
        "id": "e_2ObKmIFTfN"
      },
      "execution_count": null,
      "outputs": []
    },
    {
      "cell_type": "code",
      "source": [
        "train.head()"
      ],
      "metadata": {
        "id": "CuiC55qgFT4D"
      },
      "execution_count": null,
      "outputs": []
    },
    {
      "cell_type": "code",
      "source": [
        "test.head()"
      ],
      "metadata": {
        "id": "4BiTJMGwFUcK"
      },
      "execution_count": null,
      "outputs": []
    },
    {
      "cell_type": "markdown",
      "source": [],
      "metadata": {
        "id": "sG6ZZHX6FVL_"
      }
    },
    {
      "cell_type": "code",
      "source": [
        "store.head()"
      ],
      "metadata": {
        "id": "oJ-pm6MbFXf1"
      },
      "execution_count": null,
      "outputs": []
    },
    {
      "cell_type": "code",
      "source": [
        "train.shape"
      ],
      "metadata": {
        "id": "Pgm1eyRKFX5n"
      },
      "execution_count": null,
      "outputs": []
    },
    {
      "cell_type": "code",
      "source": [
        "train['Year'] = train.index.year\n",
        "train['Month'] = train.index.month\n",
        "train['Day'] = train.index.day\n",
        "train['WeekofYear'] = train.index.weekofyear\n",
        "\n",
        "train['SalesPerCustomer'] = train['Sales']/train['Customers']"
      ],
      "metadata": {
        "id": "GFAQGy0pFYMQ"
      },
      "execution_count": null,
      "outputs": []
    },
    {
      "cell_type": "code",
      "source": [
        "train.head()"
      ],
      "metadata": {
        "id": "TmtUROwkGN3S"
      },
      "execution_count": null,
      "outputs": []
    },
    {
      "cell_type": "code",
      "source": [
        "train_store_closed = train[(train.Open == 0)]\n",
        "train_store_closed.head()"
      ],
      "metadata": {
        "id": "tyIPxYS0GOK7"
      },
      "execution_count": null,
      "outputs": []
    },
    {
      "cell_type": "code",
      "source": [
        "train_store_closed.hist('DayOfWeek')"
      ],
      "metadata": {
        "id": "yktcQ9JGGOac"
      },
      "execution_count": null,
      "outputs": []
    },
    {
      "cell_type": "code",
      "source": [
        "train_store_closed['SchoolHoliday'].value_counts().plot(kind='bar')"
      ],
      "metadata": {
        "id": "csVsO6ggGOqI"
      },
      "execution_count": null,
      "outputs": []
    },
    {
      "cell_type": "code",
      "source": [
        "train.isnull().sum()"
      ],
      "metadata": {
        "id": "fyPYgYxHGuEc"
      },
      "execution_count": null,
      "outputs": []
    },
    {
      "cell_type": "code",
      "source": [
        "train[(train.Open == 0)].shape[0]"
      ],
      "metadata": {
        "id": "ImMhvxRnGuTF"
      },
      "execution_count": null,
      "outputs": []
    },
    {
      "cell_type": "code",
      "source": [
        "train[(train.Open == 1) & (train.Sales == 0)].shape[0]"
      ],
      "metadata": {
        "id": "h_nayEImGuhI"
      },
      "execution_count": null,
      "outputs": []
    },
    {
      "cell_type": "code",
      "source": [
        "store.head()"
      ],
      "metadata": {
        "id": "DDEm0uoRGus1"
      },
      "execution_count": null,
      "outputs": []
    },
    {
      "cell_type": "code",
      "source": [
        "store.isnull().sum()"
      ],
      "metadata": {
        "id": "i3j3WmxxGO49"
      },
      "execution_count": null,
      "outputs": []
    },
    {
      "cell_type": "code",
      "source": [
        "store['CompetitionDistance'].fillna(store['CompetitionDistance'].median(), inplace=True)"
      ],
      "metadata": {
        "id": "ZCQhsPJIHPoQ"
      },
      "execution_count": null,
      "outputs": []
    },
    {
      "cell_type": "code",
      "source": [
        "store.fillna(0, inplace=True)"
      ],
      "metadata": {
        "id": "5NmdtBLBHP3A"
      },
      "execution_count": null,
      "outputs": []
    },
    {
      "cell_type": "code",
      "source": [
        "store.isnull().sum().sum()"
      ],
      "metadata": {
        "id": "gPJD6E7RHQFA"
      },
      "execution_count": null,
      "outputs": []
    },
    {
      "cell_type": "code",
      "source": [
        "test.head()"
      ],
      "metadata": {
        "id": "oVFyVz4sHd6_"
      },
      "execution_count": null,
      "outputs": []
    },
    {
      "cell_type": "code",
      "source": [
        "test.isnull().sum()"
      ],
      "metadata": {
        "id": "qsEnDWGjHeJL"
      },
      "execution_count": null,
      "outputs": []
    },
    {
      "cell_type": "code",
      "source": [
        "test.fillna(1, inplace=True)"
      ],
      "metadata": {
        "id": "tBI04r09HeXh"
      },
      "execution_count": null,
      "outputs": []
    },
    {
      "cell_type": "code",
      "source": [
        "test.isnull().sum().sum()"
      ],
      "metadata": {
        "id": "RmrJffWFHp_6"
      },
      "execution_count": null,
      "outputs": []
    },
    {
      "cell_type": "code",
      "source": [
        "train_store_joined = pd.merge(train, store, on='Store', how='inner')\n",
        "train_store_joined.head()"
      ],
      "metadata": {
        "id": "mjlyTy5mHqOE"
      },
      "execution_count": null,
      "outputs": []
    },
    {
      "cell_type": "code",
      "source": [
        "train_store_joined.groupby('StoreType')['Customers', 'Sales', 'SalesPerCustomer'].sum().sort_values('Sales', ascending='desc')"
      ],
      "metadata": {
        "id": "08YKTtDJH1qI"
      },
      "execution_count": null,
      "outputs": []
    },
    {
      "cell_type": "code",
      "source": [
        "train_store_joined[(train_store_joined.Open == 0) | (train_store_joined.Sales==0)].shape"
      ],
      "metadata": {
        "id": "waFy5JzZH15X"
      },
      "execution_count": null,
      "outputs": []
    },
    {
      "cell_type": "code",
      "source": [
        "train_store_joined_open = train_store_joined[~((train_store_joined.Open ==0) | (train_store_joined.Sales==0))]\n",
        "train_store_joined_open"
      ],
      "metadata": {
        "id": "gnQdVoLMH2Fp"
      },
      "execution_count": null,
      "outputs": []
    },
    {
      "cell_type": "code",
      "source": [
        "plt.figure(figsize=(20, 10))\n",
        "sns.heatmap(train_store_joined.corr(), annot=True)"
      ],
      "metadata": {
        "id": "7n8iFeC0IFK9"
      },
      "execution_count": null,
      "outputs": []
    },
    {
      "cell_type": "code",
      "source": [
        "sns.factorplot(data = train_store_joined_open, x='Month', y='Sales',\n",
        "              col ='Promo', hue='Promo2', row='Year')"
      ],
      "metadata": {
        "id": "yo2ftrkwIFZQ"
      },
      "execution_count": null,
      "outputs": []
    },
    {
      "cell_type": "code",
      "source": [
        "sns.factorplot(data= train_store_joined_open, x='DayOfWeek', y=\"Sales\",\n",
        "              hue='Promo')"
      ],
      "metadata": {
        "id": "Xe3_GoKGIFkY"
      },
      "execution_count": null,
      "outputs": []
    },
    {
      "cell_type": "code",
      "source": [
        "pd.plotting.register_matplotlib_converters()"
      ],
      "metadata": {
        "id": "nTGf9S3-IVr6"
      },
      "execution_count": null,
      "outputs": []
    },
    {
      "cell_type": "code",
      "source": [
        "train['Sales'] = train['Sales'] * 1.00\n",
        "\n",
        "train['Sales'].head()"
      ],
      "metadata": {
        "id": "JRX0MJV1IV6B"
      },
      "execution_count": null,
      "outputs": []
    },
    {
      "cell_type": "code",
      "source": [
        "train.Store.unique()"
      ],
      "metadata": {
        "id": "unxBwprsIWHI"
      },
      "execution_count": null,
      "outputs": []
    },
    {
      "cell_type": "code",
      "source": [
        "sales_a = train[train.Store == 2]['Sales']\n",
        "sales_b = train[train.Store == 85]['Sales'].sort_index(ascending = True)\n",
        "sales_c = train[train.Store == 1]['Sales']\n",
        "sales_d = train[train.Store == 13]['Sales']\n",
        "\n",
        "frame, (ax1, ax2, ax3, ax4) = plt.subplots(4, figsize = (20, 16))\n",
        "\n",
        "# Visualize Trend\n",
        "sales_a.resample('w').sum().plot(ax = ax1)\n",
        "sales_b.resample('w').sum().plot(ax = ax2)\n",
        "sales_c.resample('w').sum().plot(ax = ax3)\n",
        "sales_d.resample('w').sum().plot(ax = ax4)\n",
        "\n",
        "\n",
        "# will be used to resample the speed column of our DataFrame\n",
        "#The 'W' indicates we want to resample by week. At the bottom of this post is a summary of different time frames.\n",
        "# You could use for Day = d, MOnth = m, Year = y"
      ],
      "metadata": {
        "id": "5vH8JTM0InFL"
      },
      "execution_count": null,
      "outputs": []
    },
    {
      "cell_type": "code",
      "source": [
        "def test_stationarity(timeseries):\n",
        "    # Determine rolling statestics\n",
        "    roll_mean = timeseries.rolling(window=7).mean()\n",
        "    roll_std = timeseries.rolling(window=7).std()\n",
        "\n",
        "    # plotting rolling statestics\n",
        "    plt.subplots(figsize = (16, 6))\n",
        "    orginal = plt.plot(timeseries.resample('w').mean(), color='blue',linewidth= 3, label='Orginal')\n",
        "    roll_mean = plt.plot(roll_mean.resample('w').mean(), color='red',linewidth= 3, label='Rolling Mean')\n",
        "    roll_mean = plt.plot(roll_std.resample('w').mean(), color='green',linewidth= 3, label='Rolling Std')\n",
        "\n",
        "    plt.legend(loc='best')\n",
        "    plt.show()\n",
        "\n",
        "    print('Result of Dickey-Fuller test:')\n",
        "    result= adfuller(timeseries, autolag='AIC')\n",
        "\n",
        "    print('ADF Statestics: %f' %result[0])\n",
        "    print('P-value: %f' %result[1])\n",
        "    print('Critical Values:')\n",
        "    for key, value in result[4].items():\n",
        "        print(key, value)"
      ],
      "metadata": {
        "id": "-F31hXl1InSz"
      },
      "execution_count": null,
      "outputs": []
    },
    {
      "cell_type": "code",
      "source": [
        "test_stationarity(sales_a)"
      ],
      "metadata": {
        "id": "Xb2OhV1FI2UA"
      },
      "execution_count": null,
      "outputs": []
    },
    {
      "cell_type": "code",
      "source": [
        "test_stationarity(sales_b)\n"
      ],
      "metadata": {
        "id": "sB2RO0EkI2i2"
      },
      "execution_count": null,
      "outputs": []
    },
    {
      "cell_type": "code",
      "source": [
        "test_stationarity(sales_c)"
      ],
      "metadata": {
        "id": "M6oo6yvRIndd"
      },
      "execution_count": null,
      "outputs": []
    },
    {
      "cell_type": "code",
      "source": [
        "test_stationarity(sales_d)"
      ],
      "metadata": {
        "id": "xXn1t6zqJOk7"
      },
      "execution_count": null,
      "outputs": []
    },
    {
      "cell_type": "code",
      "source": [
        "def plot_timeseries(sales,StoreType):\n",
        "\n",
        "    fig, axes = plt.subplots(2, 1, sharex=True, sharey=False)\n",
        "    fig.set_figheight(6)\n",
        "    fig.set_figwidth(20)\n",
        "\n",
        "    decomposition= seasonal_decompose(sales, model = 'additive',freq=365)\n",
        "\n",
        "    estimated_trend = decomposition.trend\n",
        "    estimated_seasonal = decomposition.seasonal\n",
        "    estimated_residual = decomposition.resid\n",
        "\n",
        "    axes[1].plot(estimated_seasonal, 'g', label='Seasonality')\n",
        "    axes[1].legend(loc='upper left');\n",
        "\n",
        "    axes[0].plot(estimated_trend, label='Trend')\n",
        "    axes[0].legend(loc='upper left');\n",
        "\n",
        "    plt.title('Decomposition Plots')"
      ],
      "metadata": {
        "id": "QsepNIueJOyY"
      },
      "execution_count": null,
      "outputs": []
    },
    {
      "cell_type": "code",
      "source": [
        "plot_timeseries(sales_a, 'a')"
      ],
      "metadata": {
        "id": "GCoL1n4HJO8C"
      },
      "execution_count": null,
      "outputs": []
    },
    {
      "cell_type": "code",
      "source": [
        "plot_timeseries(sales_b, 'b')"
      ],
      "metadata": {
        "id": "gbgiVVKGJPFw"
      },
      "execution_count": null,
      "outputs": []
    },
    {
      "cell_type": "code",
      "source": [
        "plot_timeseries(sales_c, 'c')"
      ],
      "metadata": {
        "id": "T3N98KktJPTA"
      },
      "execution_count": null,
      "outputs": []
    },
    {
      "cell_type": "code",
      "source": [
        "plot_timeseries(sales_d, 'd')"
      ],
      "metadata": {
        "id": "ykCZoBkeJmI6"
      },
      "execution_count": null,
      "outputs": []
    },
    {
      "cell_type": "code",
      "source": [
        "def auto_corr(sales):\n",
        "    lag_acf = acf(sales, nlags=30)\n",
        "    lag_pacf = pacf(sales,nlags=20,method='ols')\n",
        "\n",
        "    plt.subplot(121)\n",
        "    plt.plot(lag_acf)\n",
        "    plt.axhline(y=0, linestyle='--', color='red')\n",
        "    plt.axhline(y=1.96/np.sqrt(len(sales_a)), linestyle='--', color='red')\n",
        "    plt.axhline(y=-1.96/np.sqrt(len(sales_a)), linestyle='--', color='red')\n",
        "    plt.title('ACF')\n",
        "\n",
        "    plt.subplot(122)\n",
        "    plt.plot(lag_pacf)\n",
        "    plt.axhline(y=0, linestyle='--', color='red')\n",
        "    plt.axhline(y=1.96/np.sqrt(len(sales_a)), linestyle='--', color='red')\n",
        "    plt.axhline(y=-1.96/np.sqrt(len(sales_a)), linestyle='--', color='red')\n",
        "    plt.title('PACF')"
      ],
      "metadata": {
        "id": "pnBSFZJEJmUu"
      },
      "execution_count": null,
      "outputs": []
    },
    {
      "cell_type": "code",
      "source": [
        "auto_corr(sales_a)"
      ],
      "metadata": {
        "id": "LZrC4cfuJurS"
      },
      "execution_count": null,
      "outputs": []
    },
    {
      "cell_type": "code",
      "source": [
        "auto_corr(sales_b)"
      ],
      "metadata": {
        "id": "A3i3ZS5PJu0s"
      },
      "execution_count": null,
      "outputs": []
    },
    {
      "cell_type": "code",
      "source": [
        "auto_corr(sales_c)"
      ],
      "metadata": {
        "id": "I4BgoZUZJvCr"
      },
      "execution_count": null,
      "outputs": []
    },
    {
      "cell_type": "code",
      "source": [
        "auto_corr(sales_d)"
      ],
      "metadata": {
        "id": "QklJzceoJmfI"
      },
      "execution_count": null,
      "outputs": []
    },
    {
      "cell_type": "code",
      "source": [
        "train_arima = train.resample('w').mean()\n",
        "train_arima = train_arima[['Sales']]\n",
        "train_arima.plot()"
      ],
      "metadata": {
        "id": "h05TYwyzJmpY"
      },
      "execution_count": null,
      "outputs": []
    },
    {
      "cell_type": "code",
      "source": [
        "train_arima.head()"
      ],
      "metadata": {
        "id": "0kHS8dpJKIom"
      },
      "execution_count": null,
      "outputs": []
    },
    {
      "cell_type": "code",
      "source": [
        "p = d = q = range(0, 2)\n",
        "\n",
        "# Generate all different combinations of p, q and q triplets\n",
        "pdq = list(itertools.product(p, d, q))\n",
        "\n",
        "# Generate all different combinations of seasonal p, q and q triplets\n",
        "seasonal_pdq = [(x[0], x[1], x[2], 12) for x in list(itertools.product(p, d, q))]\n",
        "\n",
        "print('Examples of parameter combinations for Seasonal ARIMA: ')\n",
        "print('SARIMAX: {} x {}'.format(pdq[1], seasonal_pdq[1]))\n",
        "print('SARIMAX: {} x {}'.format(pdq[1], seasonal_pdq[2]))\n",
        "print('SARIMAX: {} x {}'.format(pdq[2], seasonal_pdq[3]))\n",
        "print('SARIMAX: {} x {}'.format(pdq[2], seasonal_pdq[4]))"
      ],
      "metadata": {
        "id": "aW2SRikEKI4B"
      },
      "execution_count": null,
      "outputs": []
    },
    {
      "cell_type": "code",
      "source": [
        "for param in pdq:\n",
        "    for param_seasonal in seasonal_pdq:\n",
        "        try:\n",
        "            mod = sm.tsa.statespace.SARIMAX(train_arima,\n",
        "                                            order=param,\n",
        "                                            seasonal_order=param_seasonal,\n",
        "                                            enforce_stationarity=False,\n",
        "                                            enforce_invertibility=False)\n",
        "\n",
        "            results = mod.fit()\n",
        "\n",
        "            print('ARIMA{}x{}12 - AIC:{}'.format(param, param_seasonal, results.aic))\n",
        "        except:\n",
        "            continue"
      ],
      "metadata": {
        "id": "N_byUrF_KVNw"
      },
      "execution_count": null,
      "outputs": []
    },
    {
      "cell_type": "code",
      "source": [
        "model_sarima = sm.tsa.statespace.SARIMAX(train_arima,\n",
        "                                        order=(1, 1, 1),\n",
        "                                        seasonal_order=(1,1,1,12),\n",
        "                                        enforce_stationarity=False,\n",
        "                                        enforce_invertibility=False)\n",
        "results_sarima= model_sarima.fit()\n",
        "print(results_sarima.summary().tables[1])"
      ],
      "metadata": {
        "id": "ebcKs0-CKdml"
      },
      "execution_count": null,
      "outputs": []
    },
    {
      "cell_type": "code",
      "source": [
        "results_sarima.plot_diagnostics(figsize=(16, 10))\n",
        "plt.show()"
      ],
      "metadata": {
        "id": "wkeySqigKdyw"
      },
      "execution_count": null,
      "outputs": []
    },
    {
      "cell_type": "code",
      "source": [
        "pred = results_sarima.get_prediction(start=pd.to_datetime('2015-1-4'), dynamic=False)\n",
        "\n",
        "# Get confidence interval of forecast\n",
        "pred_ci = pred.conf_int()\n",
        "\n",
        "ax = train_arima['2014':].plot(label='Observed', figsize=(15,7))\n",
        "pred.predicted_mean.plot(ax=ax, label='One step ahed Forecast', alpha=1)\n",
        "\n",
        "ax.fill_between(pred_ci.index,\n",
        "               pred_ci.iloc[:, 0],\n",
        "               pred_ci.iloc[:,1],\n",
        "               color='r', alpha=.1)\n",
        "\n",
        "ax.set_xlabel('Date')\n",
        "ax.set_ylabel('Sales')\n",
        "plt.legend()\n",
        "plt.show()\n",
        "\n",
        "train_arima_forecasted = pred.predicted_mean\n",
        "train_arima_truth = train_arima['2015-01-04':]\n",
        "\n",
        "rms_arima= sqrt(mean_squared_error(train_arima_truth,train_arima_forecasted))\n",
        "print('Root Mean Squared Error = ',rms_arima)"
      ],
      "metadata": {
        "id": "lKDnBlv_KVcT"
      },
      "execution_count": null,
      "outputs": []
    },
    {
      "cell_type": "code",
      "source": [
        "train_arima_forecasted.to_csv('predicted_data.csv')\n",
        "print('Predicted Data Saved in output')"
      ],
      "metadata": {
        "id": "xdTP0vLfK9mH"
      },
      "execution_count": null,
      "outputs": []
    },
    {
      "cell_type": "code",
      "source": [
        "train_prophet = train.copy()\n",
        "train_prophet.reset_index(level=0, inplace=True)"
      ],
      "metadata": {
        "id": "RRtEaEAYK914"
      },
      "execution_count": null,
      "outputs": []
    },
    {
      "cell_type": "code",
      "source": [
        "train_prophet = train_prophet.rename(columns = {'Date': 'ds',\n",
        "                                'Sales': 'y'})\n",
        "train_prophet.head()"
      ],
      "metadata": {
        "id": "7Bv1_ay8LRpr"
      },
      "execution_count": null,
      "outputs": []
    },
    {
      "cell_type": "code",
      "source": [
        "ts_week_prophet = train_prophet.set_index(\"ds\").resample(\"W\").sum()\n",
        "ts_week_prophet.head()"
      ],
      "metadata": {
        "id": "bhfCz9EvLR5c"
      },
      "execution_count": null,
      "outputs": []
    },
    {
      "cell_type": "code",
      "source": [
        "train_store_joined.columns"
      ],
      "metadata": {
        "id": "z84FSBpnLSC9"
      },
      "execution_count": null,
      "outputs": []
    },
    {
      "cell_type": "code",
      "source": [
        "ts_xgboost = train_store_joined.copy()\n",
        "ts_xgboost = ts_xgboost.drop(['Customers', 'SalesPerCustomer', 'PromoInterval'], axis=1)"
      ],
      "metadata": {
        "id": "5sr6FkK5LSMa"
      },
      "execution_count": null,
      "outputs": []
    },
    {
      "cell_type": "code",
      "source": [
        "ts_xgboost.head()"
      ],
      "metadata": {
        "id": "GBDT3fbzLSVj"
      },
      "execution_count": null,
      "outputs": []
    },
    {
      "cell_type": "code",
      "source": [
        "ts_xgboost['CompetitionOpen'] = 12 * (ts_xgboost.Year - ts_xgboost.CompetitionOpenSinceYear) + (ts_xgboost.Month - ts_xgboost.CompetitionOpenSinceMonth)\n",
        "ts_xgboost['PromoOpen'] = 12 * (ts_xgboost.Year - ts_xgboost.Promo2SinceYear) + (ts_xgboost.WeekofYear - ts_xgboost.Promo2SinceWeek) / 4.0\n",
        "ts_xgboost = ts_xgboost.drop([\"CompetitionOpenSinceMonth\", \"CompetitionOpenSinceYear\"], axis = 1)\n",
        "ts_xgboost = ts_xgboost.drop([\"Promo2SinceWeek\", \"Promo2SinceYear\"], axis = 1)"
      ],
      "metadata": {
        "id": "gG-_7U30LSd9"
      },
      "execution_count": null,
      "outputs": []
    },
    {
      "cell_type": "code",
      "source": [
        "mappings = {0:0, \"0\": 0, \"a\": 1, \"b\": 1, \"c\": 1}\n",
        "ts_xgboost[\"StateHoliday_cat\"] = ts_xgboost[\"StateHoliday\"].map(mappings)\n",
        "ts_xgboost[\"StoreType_cat\"] = ts_xgboost[\"StoreType\"].map(mappings)\n",
        "ts_xgboost[\"Assortment_cat\"] = ts_xgboost[\"Assortment\"].map(mappings)\n",
        "ts_xgboost = ts_xgboost.drop([\"StateHoliday\", \"StoreType\", \"Assortment\"], axis = 1)"
      ],
      "metadata": {
        "id": "QK1W5WHoLSm7"
      },
      "execution_count": null,
      "outputs": []
    },
    {
      "cell_type": "code",
      "source": [
        "features = ts_xgboost.drop([\"Sales\"], axis = 1)\n",
        "target = ts_xgboost[\"Sales\"]\n",
        "\n",
        "X_train, X_test, y_train, y_test = model_selection.train_test_split(features, target, test_size = 0.20)"
      ],
      "metadata": {
        "id": "Kr4A1R5lLokb"
      },
      "execution_count": null,
      "outputs": []
    },
    {
      "cell_type": "code",
      "source": [
        "params = {'max_depth':6, \"booster\": \"gbtree\", 'eta':0.3, 'objective':'reg:linear'}\n",
        "\n",
        "dtrain = xgb.DMatrix(X_train, y_train)\n",
        "dtest = xgb.DMatrix(X_test, y_test)\n",
        "watchlist = [(dtrain, 'train'), (dtest, 'eval')]\n",
        "\n",
        "# Training the model\n",
        "xgboost = xgb.train(params, dtrain, 100, evals=watchlist,early_stopping_rounds= 100, verbose_eval=True)\n",
        "\n",
        "# Making predictions\n",
        "preds = xgboost.predict(dtest)"
      ],
      "metadata": {
        "id": "Ke0MzpzdLouN"
      },
      "execution_count": null,
      "outputs": []
    },
    {
      "cell_type": "code",
      "source": [
        "rms_xgboost = sqrt(mean_squared_error(y_test, preds))\n",
        "print(\"Root Mean Squared Error for XGBoost:\", rms_xgboost)"
      ],
      "metadata": {
        "id": "m6Rj-ExxLo22"
      },
      "execution_count": null,
      "outputs": []
    },
    {
      "cell_type": "code",
      "source": [
        "params_2 = {'max_depth':10, 'eta':0.1,  'gamma': 2}\n",
        "\n",
        "dtrain = xgb.DMatrix(X_train, y_train)\n",
        "dtest = xgb.DMatrix(X_test, y_test)\n",
        "watchlist = [(dtrain, 'train'), (dtest, 'eval')]\n",
        "\n",
        "# Training the model\n",
        "xgboost_2 = xgb.train(params_2, dtrain, 100, evals=watchlist,early_stopping_rounds= 100, verbose_eval=True)\n",
        "\n",
        "# Making predictions\n",
        "preds_2 = xgboost_2.predict(dtest)"
      ],
      "metadata": {
        "id": "U616uIKqLS0M"
      },
      "execution_count": null,
      "outputs": []
    },
    {
      "cell_type": "code",
      "source": [
        "rms_xgboost_2 = sqrt(mean_squared_error(y_test, preds_2))\n",
        "print(\"Root Mean Squared Error for XGBoost:\", rms_xgboost_2)"
      ],
      "metadata": {
        "id": "-P23mvwILS_Q"
      },
      "execution_count": null,
      "outputs": []
    },
    {
      "cell_type": "code",
      "source": [
        "fig, ax = plt.subplots(figsize=(10,10))\n",
        "xgb.plot_importance(xgboost_2, max_num_features=50, height=0.8, ax=ax)\n",
        "plt.show()"
      ],
      "metadata": {
        "id": "ZWkl0GR4L-zZ"
      },
      "execution_count": null,
      "outputs": []
    },
    {
      "cell_type": "code",
      "source": [
        "rms_arima = format(float(rms_arima))\n",
        "rms_xgboost_2 = format(float(rms_xgboost_2))\n",
        "\n",
        "model_errors = pd.DataFrame({\n",
        "    \"Model\": [\"SARIMA\",  \"XGBoost\"],\n",
        "    \"RMSE\": [rms_arima, rms_xgboost_2]\n",
        "})\n",
        "\n",
        "model_errors.sort_values(by = \"RMSE\")"
      ],
      "metadata": {
        "id": "VZqPUAJpL-9o"
      },
      "execution_count": null,
      "outputs": []
    },
    {
      "cell_type": "code",
      "source": [],
      "metadata": {
        "id": "qPW7m6RbL_GG"
      },
      "execution_count": null,
      "outputs": []
    }
  ]
}